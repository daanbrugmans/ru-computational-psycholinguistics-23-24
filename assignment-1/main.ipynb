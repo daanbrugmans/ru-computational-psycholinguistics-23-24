{
 "cells": [
  {
   "cell_type": "markdown",
   "metadata": {},
   "source": [
    "# Assignment 1 - Computational Psycholinguistics\n",
    "By Daan Brugmans"
   ]
  },
  {
   "cell_type": "markdown",
   "metadata": {},
   "source": [
    "## 1. Imports and Global Constants"
   ]
  },
  {
   "cell_type": "code",
   "execution_count": 8,
   "metadata": {},
   "outputs": [],
   "source": [
    "import os\n",
    "\n",
    "import scipy\n",
    "import pandas as pd\n",
    "import matplotlib.pyplot as plt\n",
    "import seaborn as sns\n",
    "\n",
    "from gensim.models import Word2Vec\n",
    "from tqdm import tqdm\n",
    "\n",
    "\n",
    "PATH_TO_EXPERIMENT_DATA = os.path.join(os.getcwd(), \"data\", \"data_naming.csv\")\n",
    "PATH_TO_TRAIN_DATA = os.path.join(os.getcwd(), \"data\", \"train_en.txt\")\n",
    "MODEL_DIR = os.path.join(os.getcwd(), \"models\")\n",
    "\n",
    "SEED = 3131"
   ]
  },
  {
   "cell_type": "markdown",
   "metadata": {},
   "source": [
    "## 2. Data Loading"
   ]
  },
  {
   "cell_type": "code",
   "execution_count": 7,
   "metadata": {},
   "outputs": [
    {
     "data": {
      "text/html": [
       "<div>\n",
       "<style scoped>\n",
       "    .dataframe tbody tr th:only-of-type {\n",
       "        vertical-align: middle;\n",
       "    }\n",
       "\n",
       "    .dataframe tbody tr th {\n",
       "        vertical-align: top;\n",
       "    }\n",
       "\n",
       "    .dataframe thead th {\n",
       "        text-align: right;\n",
       "    }\n",
       "</style>\n",
       "<table border=\"1\" class=\"dataframe\">\n",
       "  <thead>\n",
       "    <tr style=\"text-align: right;\">\n",
       "      <th></th>\n",
       "      <th>isi</th>\n",
       "      <th>prime</th>\n",
       "      <th>target</th>\n",
       "      <th>condition</th>\n",
       "      <th>meanRT</th>\n",
       "    </tr>\n",
       "  </thead>\n",
       "  <tbody>\n",
       "    <tr>\n",
       "      <th>0</th>\n",
       "      <td>50</td>\n",
       "      <td>capability</td>\n",
       "      <td>ability</td>\n",
       "      <td>strong</td>\n",
       "      <td>580.5</td>\n",
       "    </tr>\n",
       "    <tr>\n",
       "      <th>1</th>\n",
       "      <td>1050</td>\n",
       "      <td>capability</td>\n",
       "      <td>ability</td>\n",
       "      <td>strong</td>\n",
       "      <td>577.4</td>\n",
       "    </tr>\n",
       "    <tr>\n",
       "      <th>2</th>\n",
       "      <td>50</td>\n",
       "      <td>means</td>\n",
       "      <td>ability</td>\n",
       "      <td>weak</td>\n",
       "      <td>538.0</td>\n",
       "    </tr>\n",
       "    <tr>\n",
       "      <th>3</th>\n",
       "      <td>1050</td>\n",
       "      <td>means</td>\n",
       "      <td>ability</td>\n",
       "      <td>weak</td>\n",
       "      <td>571.0</td>\n",
       "    </tr>\n",
       "    <tr>\n",
       "      <th>4</th>\n",
       "      <td>50</td>\n",
       "      <td>fuel</td>\n",
       "      <td>ability</td>\n",
       "      <td>unrel_strong</td>\n",
       "      <td>639.3</td>\n",
       "    </tr>\n",
       "    <tr>\n",
       "      <th>...</th>\n",
       "      <td>...</td>\n",
       "      <td>...</td>\n",
       "      <td>...</td>\n",
       "      <td>...</td>\n",
       "      <td>...</td>\n",
       "    </tr>\n",
       "    <tr>\n",
       "      <th>11035</th>\n",
       "      <td>1050</td>\n",
       "      <td>giraffe</td>\n",
       "      <td>zoo</td>\n",
       "      <td>weak</td>\n",
       "      <td>545.4</td>\n",
       "    </tr>\n",
       "    <tr>\n",
       "      <th>11036</th>\n",
       "      <td>50</td>\n",
       "      <td>crisp</td>\n",
       "      <td>zoo</td>\n",
       "      <td>unrel_strong</td>\n",
       "      <td>542.8</td>\n",
       "    </tr>\n",
       "    <tr>\n",
       "      <th>11037</th>\n",
       "      <td>1050</td>\n",
       "      <td>crisp</td>\n",
       "      <td>zoo</td>\n",
       "      <td>unrel_strong</td>\n",
       "      <td>685.2</td>\n",
       "    </tr>\n",
       "    <tr>\n",
       "      <th>11038</th>\n",
       "      <td>50</td>\n",
       "      <td>bottle</td>\n",
       "      <td>zoo</td>\n",
       "      <td>unrel_weak</td>\n",
       "      <td>545.6</td>\n",
       "    </tr>\n",
       "    <tr>\n",
       "      <th>11039</th>\n",
       "      <td>1050</td>\n",
       "      <td>bottle</td>\n",
       "      <td>zoo</td>\n",
       "      <td>unrel_weak</td>\n",
       "      <td>543.4</td>\n",
       "    </tr>\n",
       "  </tbody>\n",
       "</table>\n",
       "<p>11040 rows × 5 columns</p>\n",
       "</div>"
      ],
      "text/plain": [
       "        isi       prime   target     condition  meanRT\n",
       "0        50  capability  ability        strong   580.5\n",
       "1      1050  capability  ability        strong   577.4\n",
       "2        50       means  ability          weak   538.0\n",
       "3      1050       means  ability          weak   571.0\n",
       "4        50        fuel  ability  unrel_strong   639.3\n",
       "...     ...         ...      ...           ...     ...\n",
       "11035  1050     giraffe      zoo          weak   545.4\n",
       "11036    50       crisp      zoo  unrel_strong   542.8\n",
       "11037  1050       crisp      zoo  unrel_strong   685.2\n",
       "11038    50      bottle      zoo    unrel_weak   545.6\n",
       "11039  1050      bottle      zoo    unrel_weak   543.4\n",
       "\n",
       "[11040 rows x 5 columns]"
      ]
     },
     "metadata": {},
     "output_type": "display_data"
    }
   ],
   "source": [
    "test_df = pd.read_csv(PATH_TO_EXPERIMENT_DATA)\n",
    "\n",
    "# TODO: Load train_df as parsed train_en.txt"
   ]
  },
  {
   "cell_type": "markdown",
   "metadata": {},
   "source": [
    "## 3. Model Training\n",
    "If you want to run this notebook, you do not need to train, the models, since the pre-trained models will be loaded later."
   ]
  },
  {
   "cell_type": "code",
   "execution_count": null,
   "metadata": {},
   "outputs": [],
   "source": [
    "WORD2VEC_VECTOR_SIZE = 300\n",
    "WORD2VEC_MIN_COUNT = 5\n",
    "WORD2VEC_EPOCHS = 5\n",
    "WORD2VEC_WORKERS = 2\n",
    "\n",
    "WORD2VEC_SG_SPACE = set(0, 1)\n",
    "WORD2VEC_WINDOW_SPACE = set(2, 5, 8)\n",
    "WORD2VEC_SEARCH_SPACE = [(sg, window) for sg in WORD2VEC_SG_SPACE for window in WORD2VEC_WINDOW_SPACE]\n",
    "\n",
    "for sg, window in tqdm(WORD2VEC_WINDOW_SPACE):\n",
    "    word2vec_model = Word2Vec(\n",
    "        sentences=train_df,\n",
    "        sg=sg,\n",
    "        window=window,\n",
    "        vector_size=WORD2VEC_VECTOR_SIZE,\n",
    "        min_count=WORD2VEC_MIN_COUNT,\n",
    "        epochs=WORD2VEC_EPOCHS,\n",
    "        seed=SEED,\n",
    "        workers=WORD2VEC_WORKERS\n",
    "    )\n",
    "    \n",
    "    if sg == 0:\n",
    "        word2vec_architecture_name = \"cbow\"\n",
    "    elif sg == 1:\n",
    "        word2vec_architecture_name = \"skipgram\"\n",
    "    else:\n",
    "        raise ValueError(\"Invalid value of sg encountered:\", sg, \", was of type\", type(sg))\n",
    "    \n",
    "    path_to_word2vec_model = os.path.join(MODEL_DIR, f\"{word2vec_architecture_name}_window_{window}.word2vec\")\n",
    "    word2vec_model.save()"
   ]
  },
  {
   "cell_type": "markdown",
   "metadata": {},
   "source": [
    "## 4. Model Loading"
   ]
  },
  {
   "cell_type": "code",
   "execution_count": null,
   "metadata": {},
   "outputs": [],
   "source": [
    "cbow_window_2 = Word2Vec.load(os.path.join(MODEL_DIR, \"cbow_window_2.wav2vec\"))\n",
    "cbow_window_5 = Word2Vec.load(os.path.join(MODEL_DIR, \"cbow_window_5.wav2vec\"))\n",
    "cbow_window_8 = Word2Vec.load(os.path.join(MODEL_DIR, \"cbow_window_8.wav2vec\"))\n",
    "\n",
    "skipgram_window_2 = Word2Vec.load(os.path.join(MODEL_DIR, \"skipgram_window_2.wav2vec\"))\n",
    "skipgram_window_5 = Word2Vec.load(os.path.join(MODEL_DIR, \"skipgram_window_5.wav2vec\"))\n",
    "skipgram_window_8 = Word2Vec.load(os.path.join(MODEL_DIR, \"skipgram_window_8.wav2vec\"))"
   ]
  },
  {
   "cell_type": "markdown",
   "metadata": {},
   "source": [
    "## 5. Model Testing"
   ]
  },
  {
   "cell_type": "code",
   "execution_count": null,
   "metadata": {},
   "outputs": [],
   "source": [
    "# TODO: For every word2vec model, calculate the cosine similarities between test_df prime and target using `model.wv.similarity(prime, target)`\n",
    "\n",
    "# TODO: Store the cosine similarities, group by semantic relatedness (strong, weak, unrelated) and calculate the mean.per group.\n",
    "# Check if mean similarities match the three conditions: strong should be smallest (since small semantic distance), then weak, then unrelated\n",
    "\n",
    "# TODO: Investigate how well the sizes of the priming effects for each target are predicted by cosine similarities\n",
    "# Build seaborn regression plot where x = cosine_similarity, y = meanRT, hue = isi, seed = SEED\n",
    "# Use SciPy to get linear regression slope, intercept, r from seaborn plot and add it to plot"
   ]
  },
  {
   "cell_type": "markdown",
   "metadata": {},
   "source": [
    "### 5.1 CBOW Window 2"
   ]
  },
  {
   "cell_type": "code",
   "execution_count": null,
   "metadata": {},
   "outputs": [],
   "source": []
  },
  {
   "cell_type": "markdown",
   "metadata": {},
   "source": [
    "### 5.2 CBOW Window 5"
   ]
  },
  {
   "cell_type": "code",
   "execution_count": null,
   "metadata": {},
   "outputs": [],
   "source": []
  },
  {
   "cell_type": "markdown",
   "metadata": {},
   "source": [
    "### 5.3 CBOW Window 8"
   ]
  },
  {
   "cell_type": "code",
   "execution_count": null,
   "metadata": {},
   "outputs": [],
   "source": []
  },
  {
   "cell_type": "markdown",
   "metadata": {},
   "source": [
    "### 5.4 Skip-Gram Window 2"
   ]
  },
  {
   "cell_type": "code",
   "execution_count": null,
   "metadata": {},
   "outputs": [],
   "source": []
  },
  {
   "cell_type": "markdown",
   "metadata": {},
   "source": [
    "### 5.5 Skip-Gram Window 5"
   ]
  },
  {
   "cell_type": "code",
   "execution_count": null,
   "metadata": {},
   "outputs": [],
   "source": []
  },
  {
   "cell_type": "markdown",
   "metadata": {},
   "source": [
    "### 5.6 Skip-Gram Window 8"
   ]
  },
  {
   "cell_type": "code",
   "execution_count": null,
   "metadata": {},
   "outputs": [],
   "source": []
  }
 ],
 "metadata": {
  "kernelspec": {
   "display_name": "env",
   "language": "python",
   "name": "python3"
  },
  "language_info": {
   "codemirror_mode": {
    "name": "ipython",
    "version": 3
   },
   "file_extension": ".py",
   "mimetype": "text/x-python",
   "name": "python",
   "nbconvert_exporter": "python",
   "pygments_lexer": "ipython3",
   "version": "3.11.3"
  }
 },
 "nbformat": 4,
 "nbformat_minor": 2
}
