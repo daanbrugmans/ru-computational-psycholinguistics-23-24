{
 "cells": [
  {
   "cell_type": "markdown",
   "metadata": {},
   "source": [
    "# Computational Psycholinguistics - Assignment 2"
   ]
  },
  {
   "cell_type": "markdown",
   "metadata": {},
   "source": [
    "## Imports"
   ]
  },
  {
   "cell_type": "code",
   "execution_count": 1,
   "metadata": {},
   "outputs": [],
   "source": [
    "from get_predictions import get_predictions\n",
    "\n",
    "import random\n",
    "\n",
    "import numpy as np\n",
    "import pandas as pd\n",
    "import seaborn as sns\n",
    "import scipy.io\n",
    "import torch"
   ]
  },
  {
   "cell_type": "markdown",
   "metadata": {},
   "source": [
    "## Setup"
   ]
  },
  {
   "cell_type": "code",
   "execution_count": 2,
   "metadata": {},
   "outputs": [],
   "source": [
    "def set_global_seed(seed):\n",
    "    \"\"\"Sets the same seed for varying libraries.\"\"\"\n",
    "    torch.manual_seed(seed)\n",
    "    np.random.seed(seed)\n",
    "    random.seed(seed)\n",
    "\n",
    "    if torch.cuda.is_available():\n",
    "        torch.cuda.manual_seed(seed)\n",
    "        torch.cuda.manual_seed_all(seed)\n",
    "\n",
    "        torch.backends.cudnn.benchmark = False\n",
    "        torch.backends.cudnn.deterministic = True\n",
    "\n",
    "RAW_DATA_FILE_PATH = \"./data/stimuli_erp.mat\"\n",
    "EXPERIMENTAL_STIMULI_FILE_PATH = \"./items/stimuli.txt\"\n",
    "\n",
    "ITEM_SETS = [\"stimuli\"]\n",
    "LANGUAGE = \"en\"\n",
    "CUDA = True\n",
    "\n",
    "set_global_seed(3131)"
   ]
  },
  {
   "cell_type": "markdown",
   "metadata": {},
   "source": [
    "## Loading the Raw Data"
   ]
  },
  {
   "cell_type": "code",
   "execution_count": 3,
   "metadata": {},
   "outputs": [
    {
     "name": "stdout",
     "output_type": "stream",
     "text": [
      "(205, 1)\n",
      "(1,)\n",
      "(5, 24, 6)\n",
      "(24, 6)\n",
      "(6,)\n",
      "-1.8152039051055908\n"
     ]
    }
   ],
   "source": [
    "dataset = scipy.io.loadmat(RAW_DATA_FILE_PATH)\n",
    "sentences = dataset[\"sentences\"]\n",
    "erp_data = dataset[\"ERP\"]\n",
    "\n",
    "print(erp_data.shape) # NOTE: All ERP averages\n",
    "print(erp_data[0].shape) # NOTE: All ERP averages for sentence 0 as one single tuple\n",
    "print(erp_data[0][0].shape) # NOTE: All ERP averages for sentence 0 as a tuple of (words, participants, ERP components)\n",
    "print(erp_data[0][0][0].shape) # NOTE: All ERP averages for word 0 of sentence 0\n",
    "print(erp_data[0][0][0][0].shape) # NOTE: All ERP averages for participant 0 for word 0 of sentence 0\n",
    "print(erp_data[0][0][0][0][4]) # NOTE: P600 ERP average for participant 0 for word 0 of sentence 0"
   ]
  },
  {
   "cell_type": "markdown",
   "metadata": {},
   "source": [
    "## Parsing the Sentence Data and Generating the Plain Text Stimuli File"
   ]
  },
  {
   "cell_type": "code",
   "execution_count": 4,
   "metadata": {},
   "outputs": [],
   "source": [
    "parsed_sentence_data = []\n",
    "\n",
    "with open(EXPERIMENTAL_STIMULI_FILE_PATH, \"w\") as stimuli_file:\n",
    "    for sentence in sentences:\n",
    "        parsed_sentence = []\n",
    "        sentence = sentence[0][0]\n",
    "        \n",
    "        for index, word in enumerate(sentence):\n",
    "            word = str(word[0])\n",
    "            \n",
    "            parsed_sentence.append(word)\n",
    "            \n",
    "            word = word.lower()\n",
    "            \n",
    "            if \".\" in word:\n",
    "                word = word.replace(\".\", \" .\")\n",
    "                \n",
    "            stimuli_file.write(word)\n",
    "            \n",
    "            if index == len(sentence) - 1:\n",
    "                stimuli_file.write(\"\\n\")\n",
    "            else:\n",
    "                stimuli_file.write(\" \")\n",
    "                \n",
    "        parsed_sentence_data.append(parsed_sentence)"
   ]
  },
  {
   "cell_type": "markdown",
   "metadata": {},
   "source": [
    "## Parsing the P600 Data by Sentence"
   ]
  },
  {
   "cell_type": "code",
   "execution_count": 5,
   "metadata": {},
   "outputs": [],
   "source": [
    "parsed_p600_data = []\n",
    "\n",
    "for erp_sentence_data in erp_data:\n",
    "    erp_sentence_data = erp_sentence_data[0]\n",
    "    parsed_sentence_data = []\n",
    "    \n",
    "    for i in range(erp_sentence_data.shape[1]):\n",
    "        participant_p600_for_sentence = [float(p600) for p600 in erp_sentence_data[:, i, 4]]\n",
    "        parsed_sentence_data.append(participant_p600_for_sentence)\n",
    "        \n",
    "    parsed_p600_data.append(parsed_sentence_data)"
   ]
  },
  {
   "cell_type": "markdown",
   "metadata": {},
   "source": [
    "## Generating the Model Surprisal Values"
   ]
  },
  {
   "cell_type": "code",
   "execution_count": 6,
   "metadata": {},
   "outputs": [
    {
     "name": "stdout",
     "output_type": "stream",
     "text": [
      "stimuli\n",
      "C:/Users/Daan/Documents/Projecten/ru-computational-psycholinguistics-23-24/assignment-2/code/trained_models/nwp_model_lstm_en_10000\n",
      "C:/Users/Daan/Documents/Projecten/ru-computational-psycholinguistics-23-24/assignment-2/code/trained_models/nwp_model_lstm_en_30000\n",
      "C:/Users/Daan/Documents/Projecten/ru-computational-psycholinguistics-23-24/assignment-2/code/trained_models/nwp_model_lstm_en_100000\n",
      "C:/Users/Daan/Documents/Projecten/ru-computational-psycholinguistics-23-24/assignment-2/code/trained_models/nwp_model_lstm_en_300000\n",
      "C:/Users/Daan/Documents/Projecten/ru-computational-psycholinguistics-23-24/assignment-2/code/trained_models/nwp_model_lstm_en_1000000\n",
      "C:/Users/Daan/Documents/Projecten/ru-computational-psycholinguistics-23-24/assignment-2/code/trained_models/nwp_model_lstm_en_3000000\n",
      "C:/Users/Daan/Documents/Projecten/ru-computational-psycholinguistics-23-24/assignment-2/code/trained_models/nwp_model_lstm_en_10000000\n",
      "C:/Users/Daan/Documents/Projecten/ru-computational-psycholinguistics-23-24/assignment-2/code/trained_models/nwp_model_lstm_en_30000000\n",
      "C:/Users/Daan/Documents/Projecten/ru-computational-psycholinguistics-23-24/assignment-2/code/trained_models/nwp_model_lstm_en_epoch1\n"
     ]
    }
   ],
   "source": [
    "get_predictions(ITEM_SETS, LANGUAGE, \"surp\", CUDA)"
   ]
  },
  {
   "cell_type": "markdown",
   "metadata": {},
   "source": [
    "## Generating the Model Gradients"
   ]
  },
  {
   "cell_type": "code",
   "execution_count": 7,
   "metadata": {},
   "outputs": [
    {
     "name": "stdout",
     "output_type": "stream",
     "text": [
      "stimuli\n",
      "C:/Users/Daan/Documents/Projecten/ru-computational-psycholinguistics-23-24/assignment-2/code/trained_models/nwp_model_lstm_en_10000\n"
     ]
    },
    {
     "ename": "KeyboardInterrupt",
     "evalue": "",
     "output_type": "error",
     "traceback": [
      "\u001b[1;31m---------------------------------------------------------------------------\u001b[0m",
      "\u001b[1;31mKeyboardInterrupt\u001b[0m                         Traceback (most recent call last)",
      "Cell \u001b[1;32mIn[7], line 1\u001b[0m\n\u001b[1;32m----> 1\u001b[0m \u001b[43mget_predictions\u001b[49m\u001b[43m(\u001b[49m\u001b[43mITEM_SETS\u001b[49m\u001b[43m,\u001b[49m\u001b[43m \u001b[49m\u001b[43mLANGUAGE\u001b[49m\u001b[43m,\u001b[49m\u001b[43m \u001b[49m\u001b[38;5;124;43m\"\u001b[39;49m\u001b[38;5;124;43mgrad\u001b[39;49m\u001b[38;5;124;43m\"\u001b[39;49m\u001b[43m,\u001b[49m\u001b[43m \u001b[49m\u001b[43mCUDA\u001b[49m\u001b[43m)\u001b[49m\n",
      "File \u001b[1;32mc:\\Users\\Daan\\Documents\\Projecten\\ru-computational-psycholinguistics-23-24\\assignment-2\\code\\get_predictions.py:55\u001b[0m, in \u001b[0;36mget_predictions\u001b[1;34m(item_sets, language, measure, cuda)\u001b[0m\n\u001b[0;32m     53\u001b[0m     preds \u001b[38;5;241m=\u001b[39m calc_surprisal(items_loc, item_set, index_dict, nwp_model)\n\u001b[0;32m     54\u001b[0m \u001b[38;5;28;01melif\u001b[39;00m measure \u001b[38;5;241m==\u001b[39m \u001b[38;5;124m\"\u001b[39m\u001b[38;5;124mgrad\u001b[39m\u001b[38;5;124m\"\u001b[39m:\n\u001b[1;32m---> 55\u001b[0m     preds \u001b[38;5;241m=\u001b[39m \u001b[43mcalc_gradient\u001b[49m\u001b[43m(\u001b[49m\u001b[43mitems_loc\u001b[49m\u001b[43m,\u001b[49m\u001b[43m \u001b[49m\u001b[43mitem_set\u001b[49m\u001b[43m,\u001b[49m\u001b[43m \u001b[49m\u001b[43mindex_dict\u001b[49m\u001b[43m,\u001b[49m\u001b[43m \u001b[49m\u001b[43mnwp_model\u001b[49m\u001b[43m)\u001b[49m\n\u001b[0;32m     56\u001b[0m \u001b[38;5;28;01melse\u001b[39;00m:\n\u001b[0;32m     57\u001b[0m     \u001b[38;5;28;01mraise\u001b[39;00m \u001b[38;5;167;01mValueError\u001b[39;00m(\u001b[38;5;124m\"\u001b[39m\u001b[38;5;124mUnknown measure type:\u001b[39m\u001b[38;5;124m\"\u001b[39m \u001b[38;5;241m+\u001b[39m measure)\n",
      "File \u001b[1;32mc:\\Users\\Daan\\Documents\\Projecten\\ru-computational-psycholinguistics-23-24\\assignment-2\\code\\calc_preds.py:74\u001b[0m, in \u001b[0;36mcalc_gradient\u001b[1;34m(items_loc, item_set, index_dict, nwp_model)\u001b[0m\n\u001b[0;32m     71\u001b[0m         grad \u001b[38;5;241m+\u001b[39m\u001b[38;5;241m=\u001b[39m [[\u001b[38;5;28;01mNone\u001b[39;00m] \u001b[38;5;241m*\u001b[39m (sentlengths[s]\u001b[38;5;241m-\u001b[39m\u001b[38;5;241m2\u001b[39m)]     \u001b[38;5;66;03m# subtract 2 from sentlengths because no gradient for <s> and </s> will be reported\u001b[39;00m\n\u001b[0;32m     73\u001b[0m     \u001b[38;5;28;01melse\u001b[39;00m:\n\u001b[1;32m---> 74\u001b[0m         these_grads \u001b[38;5;241m=\u001b[39m \u001b[43mone_grad\u001b[49m\u001b[43m(\u001b[49m\u001b[43mnwp_model\u001b[49m\u001b[43m,\u001b[49m\u001b[43m \u001b[49m\u001b[43mloss_fun\u001b[49m\u001b[43m,\u001b[49m\u001b[43m \u001b[49m\u001b[43msent\u001b[49m\u001b[43m[\u001b[49m\u001b[43ms\u001b[49m\u001b[43m]\u001b[49m\u001b[43m,\u001b[49m\u001b[43m \u001b[49m\u001b[43msentlengths\u001b[49m\u001b[43m[\u001b[49m\u001b[43ms\u001b[49m\u001b[43m]\u001b[49m\u001b[43m)\u001b[49m\n\u001b[0;32m     75\u001b[0m         grad \u001b[38;5;241m+\u001b[39m\u001b[38;5;241m=\u001b[39m [these_grads]\n\u001b[0;32m     77\u001b[0m \u001b[38;5;28;01mreturn\u001b[39;00m grad\n",
      "File \u001b[1;32mc:\\Users\\Daan\\Documents\\Projecten\\ru-computational-psycholinguistics-23-24\\assignment-2\\code\\calc_preds.py:52\u001b[0m, in \u001b[0;36mone_grad\u001b[1;34m(model, loss_fun, sentence, sentlength)\u001b[0m\n\u001b[0;32m     50\u001b[0m \u001b[38;5;28;01mfor\u001b[39;00m w \u001b[38;5;129;01min\u001b[39;00m \u001b[38;5;28mrange\u001b[39m(\u001b[38;5;241m1\u001b[39m, sentlength):\n\u001b[0;32m     51\u001b[0m     loss \u001b[38;5;241m=\u001b[39m loss_fun(predictions[\u001b[38;5;241m0\u001b[39m][:w]\u001b[38;5;241m.\u001b[39mview(\u001b[38;5;241m-\u001b[39m\u001b[38;5;241m1\u001b[39m, predictions[\u001b[38;5;241m0\u001b[39m][:w]\u001b[38;5;241m.\u001b[39msize(\u001b[38;5;241m-\u001b[39m\u001b[38;5;241m1\u001b[39m)), target[\u001b[38;5;241m0\u001b[39m][:w]\u001b[38;5;241m.\u001b[39mview(\u001b[38;5;241m-\u001b[39m\u001b[38;5;241m1\u001b[39m)[:w])\n\u001b[1;32m---> 52\u001b[0m     \u001b[43mloss\u001b[49m\u001b[38;5;241;43m.\u001b[39;49m\u001b[43mbackward\u001b[49m\u001b[43m(\u001b[49m\u001b[43mretain_graph\u001b[49m\u001b[38;5;241;43m=\u001b[39;49m\u001b[38;5;28;43;01mTrue\u001b[39;49;00m\u001b[43m)\u001b[49m\n\u001b[0;32m     53\u001b[0m     these_grads \u001b[38;5;241m=\u001b[39m model\u001b[38;5;241m.\u001b[39mRNN\u001b[38;5;241m.\u001b[39mweight_hh_l0\u001b[38;5;241m.\u001b[39mgrad     \u001b[38;5;66;03m# size of grads is hidden_size x hidden_size for SRN, (4 x hidden_size) x hidden_size for LSTM (because 4 units per LSTM cell)\u001b[39;00m\n\u001b[0;32m     54\u001b[0m     grads \u001b[38;5;241m+\u001b[39m\u001b[38;5;241m=\u001b[39m [copy\u001b[38;5;241m.\u001b[39mdeepcopy(these_grads)]\n",
      "File \u001b[1;32mc:\\Users\\Daan\\Documents\\Projecten\\ru-computational-psycholinguistics-23-24\\env\\Lib\\site-packages\\torch\\_tensor.py:525\u001b[0m, in \u001b[0;36mTensor.backward\u001b[1;34m(self, gradient, retain_graph, create_graph, inputs)\u001b[0m\n\u001b[0;32m    515\u001b[0m \u001b[38;5;28;01mif\u001b[39;00m has_torch_function_unary(\u001b[38;5;28mself\u001b[39m):\n\u001b[0;32m    516\u001b[0m     \u001b[38;5;28;01mreturn\u001b[39;00m handle_torch_function(\n\u001b[0;32m    517\u001b[0m         Tensor\u001b[38;5;241m.\u001b[39mbackward,\n\u001b[0;32m    518\u001b[0m         (\u001b[38;5;28mself\u001b[39m,),\n\u001b[1;32m   (...)\u001b[0m\n\u001b[0;32m    523\u001b[0m         inputs\u001b[38;5;241m=\u001b[39minputs,\n\u001b[0;32m    524\u001b[0m     )\n\u001b[1;32m--> 525\u001b[0m \u001b[43mtorch\u001b[49m\u001b[38;5;241;43m.\u001b[39;49m\u001b[43mautograd\u001b[49m\u001b[38;5;241;43m.\u001b[39;49m\u001b[43mbackward\u001b[49m\u001b[43m(\u001b[49m\n\u001b[0;32m    526\u001b[0m \u001b[43m    \u001b[49m\u001b[38;5;28;43mself\u001b[39;49m\u001b[43m,\u001b[49m\u001b[43m \u001b[49m\u001b[43mgradient\u001b[49m\u001b[43m,\u001b[49m\u001b[43m \u001b[49m\u001b[43mretain_graph\u001b[49m\u001b[43m,\u001b[49m\u001b[43m \u001b[49m\u001b[43mcreate_graph\u001b[49m\u001b[43m,\u001b[49m\u001b[43m \u001b[49m\u001b[43minputs\u001b[49m\u001b[38;5;241;43m=\u001b[39;49m\u001b[43minputs\u001b[49m\n\u001b[0;32m    527\u001b[0m \u001b[43m\u001b[49m\u001b[43m)\u001b[49m\n",
      "File \u001b[1;32mc:\\Users\\Daan\\Documents\\Projecten\\ru-computational-psycholinguistics-23-24\\env\\Lib\\site-packages\\torch\\autograd\\__init__.py:267\u001b[0m, in \u001b[0;36mbackward\u001b[1;34m(tensors, grad_tensors, retain_graph, create_graph, grad_variables, inputs)\u001b[0m\n\u001b[0;32m    262\u001b[0m     retain_graph \u001b[38;5;241m=\u001b[39m create_graph\n\u001b[0;32m    264\u001b[0m \u001b[38;5;66;03m# The reason we repeat the same comment below is that\u001b[39;00m\n\u001b[0;32m    265\u001b[0m \u001b[38;5;66;03m# some Python versions print out the first line of a multi-line function\u001b[39;00m\n\u001b[0;32m    266\u001b[0m \u001b[38;5;66;03m# calls in the traceback and some print out the last line\u001b[39;00m\n\u001b[1;32m--> 267\u001b[0m \u001b[43m_engine_run_backward\u001b[49m\u001b[43m(\u001b[49m\n\u001b[0;32m    268\u001b[0m \u001b[43m    \u001b[49m\u001b[43mtensors\u001b[49m\u001b[43m,\u001b[49m\n\u001b[0;32m    269\u001b[0m \u001b[43m    \u001b[49m\u001b[43mgrad_tensors_\u001b[49m\u001b[43m,\u001b[49m\n\u001b[0;32m    270\u001b[0m \u001b[43m    \u001b[49m\u001b[43mretain_graph\u001b[49m\u001b[43m,\u001b[49m\n\u001b[0;32m    271\u001b[0m \u001b[43m    \u001b[49m\u001b[43mcreate_graph\u001b[49m\u001b[43m,\u001b[49m\n\u001b[0;32m    272\u001b[0m \u001b[43m    \u001b[49m\u001b[43minputs\u001b[49m\u001b[43m,\u001b[49m\n\u001b[0;32m    273\u001b[0m \u001b[43m    \u001b[49m\u001b[43mallow_unreachable\u001b[49m\u001b[38;5;241;43m=\u001b[39;49m\u001b[38;5;28;43;01mTrue\u001b[39;49;00m\u001b[43m,\u001b[49m\n\u001b[0;32m    274\u001b[0m \u001b[43m    \u001b[49m\u001b[43maccumulate_grad\u001b[49m\u001b[38;5;241;43m=\u001b[39;49m\u001b[38;5;28;43;01mTrue\u001b[39;49;00m\u001b[43m,\u001b[49m\n\u001b[0;32m    275\u001b[0m \u001b[43m\u001b[49m\u001b[43m)\u001b[49m\n",
      "File \u001b[1;32mc:\\Users\\Daan\\Documents\\Projecten\\ru-computational-psycholinguistics-23-24\\env\\Lib\\site-packages\\torch\\autograd\\graph.py:744\u001b[0m, in \u001b[0;36m_engine_run_backward\u001b[1;34m(t_outputs, *args, **kwargs)\u001b[0m\n\u001b[0;32m    742\u001b[0m     unregister_hooks \u001b[38;5;241m=\u001b[39m _register_logging_hooks_on_whole_graph(t_outputs)\n\u001b[0;32m    743\u001b[0m \u001b[38;5;28;01mtry\u001b[39;00m:\n\u001b[1;32m--> 744\u001b[0m     \u001b[38;5;28;01mreturn\u001b[39;00m \u001b[43mVariable\u001b[49m\u001b[38;5;241;43m.\u001b[39;49m\u001b[43m_execution_engine\u001b[49m\u001b[38;5;241;43m.\u001b[39;49m\u001b[43mrun_backward\u001b[49m\u001b[43m(\u001b[49m\u001b[43m  \u001b[49m\u001b[38;5;66;43;03m# Calls into the C++ engine to run the backward pass\u001b[39;49;00m\n\u001b[0;32m    745\u001b[0m \u001b[43m        \u001b[49m\u001b[43mt_outputs\u001b[49m\u001b[43m,\u001b[49m\u001b[43m \u001b[49m\u001b[38;5;241;43m*\u001b[39;49m\u001b[43margs\u001b[49m\u001b[43m,\u001b[49m\u001b[43m \u001b[49m\u001b[38;5;241;43m*\u001b[39;49m\u001b[38;5;241;43m*\u001b[39;49m\u001b[43mkwargs\u001b[49m\n\u001b[0;32m    746\u001b[0m \u001b[43m    \u001b[49m\u001b[43m)\u001b[49m  \u001b[38;5;66;03m# Calls into the C++ engine to run the backward pass\u001b[39;00m\n\u001b[0;32m    747\u001b[0m \u001b[38;5;28;01mfinally\u001b[39;00m:\n\u001b[0;32m    748\u001b[0m     \u001b[38;5;28;01mif\u001b[39;00m attach_logging_hooks:\n",
      "\u001b[1;31mKeyboardInterrupt\u001b[0m: "
     ]
    }
   ],
   "source": [
    "get_predictions(ITEM_SETS, LANGUAGE, \"grad\", CUDA)"
   ]
  }
 ],
 "metadata": {
  "kernelspec": {
   "display_name": "env",
   "language": "python",
   "name": "python3"
  },
  "language_info": {
   "codemirror_mode": {
    "name": "ipython",
    "version": 3
   },
   "file_extension": ".py",
   "mimetype": "text/x-python",
   "name": "python",
   "nbconvert_exporter": "python",
   "pygments_lexer": "ipython3",
   "version": "3.11.3"
  }
 },
 "nbformat": 4,
 "nbformat_minor": 2
}
