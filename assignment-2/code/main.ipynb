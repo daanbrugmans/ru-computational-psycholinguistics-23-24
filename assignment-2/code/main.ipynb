{
 "cells": [
  {
   "cell_type": "markdown",
   "metadata": {},
   "source": [
    "# Computational Psycholinguistics - Assignment 2"
   ]
  },
  {
   "cell_type": "markdown",
   "metadata": {},
   "source": [
    "## Imports"
   ]
  },
  {
   "cell_type": "code",
   "execution_count": 72,
   "metadata": {},
   "outputs": [],
   "source": [
    "import os\n",
    "import random\n",
    "\n",
    "import numpy as np\n",
    "import pandas as pd\n",
    "import seaborn as sns\n",
    "import scipy.io\n",
    "import torch"
   ]
  },
  {
   "cell_type": "markdown",
   "metadata": {},
   "source": [
    "## Setup"
   ]
  },
  {
   "cell_type": "code",
   "execution_count": 74,
   "metadata": {},
   "outputs": [],
   "source": [
    "def set_global_seed(seed):\n",
    "    \"\"\"Sets the same seed for varying libraries.\"\"\"\n",
    "    torch.manual_seed(seed)\n",
    "    np.random.seed(seed)\n",
    "    random.seed(seed)\n",
    "\n",
    "    if torch.cuda.is_available():\n",
    "        torch.cuda.manual_seed(seed)\n",
    "        torch.cuda.manual_seed_all(seed)\n",
    "\n",
    "        torch.backends.cudnn.benchmark = False\n",
    "        torch.backends.cudnn.deterministic = True\n",
    "\n",
    "RAW_DATA_FILE_PATH = \"./data/stimuli_erp.mat\"\n",
    "EXPERIMENTAL_STIMULI_FILE_PATH = \"./items/stimuli.txt\"\n",
    "\n",
    "set_global_seed(3131)"
   ]
  },
  {
   "cell_type": "markdown",
   "metadata": {},
   "source": [
    "## Loading the Raw Data"
   ]
  },
  {
   "cell_type": "code",
   "execution_count": 53,
   "metadata": {},
   "outputs": [
    {
     "name": "stdout",
     "output_type": "stream",
     "text": [
      "(205, 1)\n",
      "(1,)\n",
      "(5, 24, 6)\n",
      "(24, 6)\n",
      "(6,)\n",
      "-1.8152039051055908\n"
     ]
    }
   ],
   "source": [
    "dataset = scipy.io.loadmat(RAW_DATA_FILE_PATH)\n",
    "sentences = dataset[\"sentences\"]\n",
    "erp_data = dataset[\"ERP\"]\n",
    "\n",
    "print(erp_data.shape) # NOTE: All ERP averages\n",
    "print(erp_data[0].shape) # NOTE: All ERP averages for sentence 0 as one single tuple\n",
    "print(erp_data[0][0].shape) # NOTE: All ERP averages for sentence 0 as a tuple of (words, participants, ERP components)\n",
    "print(erp_data[0][0][0].shape) # NOTE: All ERP averages for word 0 of sentence 0\n",
    "print(erp_data[0][0][0][0].shape) # NOTE: All ERP averages for participant 0 for word 0 of sentence 0\n",
    "print(erp_data[0][0][0][0][4]) # NOTE: P600 ERP average for participant 0 for word 0 of sentence 0"
   ]
  },
  {
   "cell_type": "markdown",
   "metadata": {},
   "source": [
    "## Generating the Plain Text Stimuli File"
   ]
  },
  {
   "cell_type": "code",
   "execution_count": 76,
   "metadata": {},
   "outputs": [],
   "source": [
    "with open(EXPERIMENTAL_STIMULI_FILE_PATH, \"w\") as stimuli_file:\n",
    "    for sentence in sentences:\n",
    "        sentence = sentence[0][0]\n",
    "        \n",
    "        for index, word in enumerate(sentence):\n",
    "            word = str(word[0])\n",
    "            word = word.lower()\n",
    "            \n",
    "            if \".\" in word:\n",
    "                word = word.replace(\".\", \" .\")\n",
    "                \n",
    "            stimuli_file.write(word)\n",
    "            \n",
    "            if index == len(sentence) - 1:\n",
    "                stimuli_file.write(\"\\n\")\n",
    "            else:\n",
    "                stimuli_file.write(\" \")"
   ]
  },
  {
   "cell_type": "markdown",
   "metadata": {},
   "source": [
    "## Parsing the P600 Data by Sentence"
   ]
  },
  {
   "cell_type": "code",
   "execution_count": null,
   "metadata": {},
   "outputs": [],
   "source": []
  }
 ],
 "metadata": {
  "kernelspec": {
   "display_name": "env",
   "language": "python",
   "name": "python3"
  },
  "language_info": {
   "codemirror_mode": {
    "name": "ipython",
    "version": 3
   },
   "file_extension": ".py",
   "mimetype": "text/x-python",
   "name": "python",
   "nbconvert_exporter": "python",
   "pygments_lexer": "ipython3",
   "version": "3.11.3"
  }
 },
 "nbformat": 4,
 "nbformat_minor": 2
}
